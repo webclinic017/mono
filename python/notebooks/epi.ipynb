{
 "cells": [
  {
   "cell_type": "markdown",
   "id": "d67c37e7",
   "metadata": {},
   "source": [
    "## Chapter 5"
   ]
  },
  {
   "cell_type": "markdown",
   "id": "848c752a",
   "metadata": {},
   "source": [
    "**Example problem**: given an input array of integers, order the entries such that the even entries appear first."
   ]
  },
  {
   "cell_type": "code",
   "execution_count": null,
   "id": "97690bbe",
   "metadata": {},
   "outputs": [],
   "source": [
    "def even_odd_array(array):\n",
    "    if len(array) <= 1:\n",
    "        return array\n",
    "    if len(array) == 2:\n",
    "        return array if array[0] % 2 == 0 else [array[1], array[0]]\n",
    "    copy = [ val for val in array ]\n",
    "    start, end = 0, len(copy) - 1\n",
    "    while start < end:\n",
    "        if copy[start] % 2 == 1 and copy[end] % 2 == 0:\n",
    "            copy[start], copy[end] = copy[end], copy[start]\n",
    "        if copy[start] % 2 == 0:\n",
    "            start += 1\n",
    "        if copy[end] % 2 == 1:\n",
    "            end -= 1\n",
    "    return copy\n",
    "\n",
    "print(even_odd_array([]) == [])\n",
    "print(even_odd_array([1]) == [1])\n",
    "print(even_odd_array([2]) == [2])\n",
    "print(even_odd_array([1,2]) == [2,1])\n",
    "print(even_odd_array([2,1]) == [2,1])\n",
    "print(even_odd_array([1,1,1]) == [1,1,1])\n",
    "print(even_odd_array([1,2,3]) == [2,1,3])\n",
    "print(even_odd_array([1,2,3,4,5,6]) == [6,2,4,3,5,1])\n",
    "print(even_odd_array([6,2,4,3,5,1]) == [6,2,4,3,5,1])\n",
    "print(even_odd_array([1,10,5,8,11,20,2,3,4,40,7,5,6]) == [6,10,40,8,4,20,2,3,11,5,7,5,1])"
   ]
  },
  {
   "cell_type": "markdown",
   "id": "d2c1fa0e",
   "metadata": {},
   "source": [
    "### 5.1\n",
    "\n",
    "Write a program that takes an array `A` and an index `i` into `A` and rearranges the elements such that all the elements less than `A[i]` (the \"pivot\") appear first, followed by elements equal to the pivot, followed by elements greater than the pivot."
   ]
  },
  {
   "cell_type": "code",
   "execution_count": null,
   "id": "9105c463",
   "metadata": {},
   "outputs": [],
   "source": [
    "def dutch_national_flag(a, index):\n",
    "    # base cases here\n",
    "    if len(a) <= 1:\n",
    "        return a\n",
    "    if len(a) == 2:\n",
    "        return a if a[0] < a[1] else [a[1], a[0]]\n",
    "\n",
    "    array = [ val for val in a ]\n",
    "\n",
    "    pivot = a[index]\n",
    "    start, end = 0, len(array) - 1\n",
    "    # pass to group less thans on the left\n",
    "    while start < end:\n",
    "        if array[start] >= pivot and array[end] < pivot:\n",
    "            array[start], array[end] = array[end], array[start]\n",
    "        if array[start] < pivot:\n",
    "            start += 1\n",
    "        if array[end] >= pivot:\n",
    "            end -= 1\n",
    "\n",
    "    start, end = 0, len(array) - 1\n",
    "    while start < end:\n",
    "        if array[end] <= pivot and array[start] > pivot:\n",
    "            array[start], array[end] = array[end], array[start]\n",
    "        if array[end] > pivot:\n",
    "            end -= 1\n",
    "        if array[start] <= pivot:\n",
    "            start += 1\n",
    "    return array\n",
    "\n",
    "print(\"input: [], 2 |\", \"output:\", dutch_national_flag([], 2))\n",
    "print(\"input: [2], 2 |\", \"output:\", dutch_national_flag([2], 2))\n",
    "print(\"input: [3,10], 0 |\", \"output:\", dutch_national_flag([3,10], 0))\n",
    "print(\"input: [10,3], 0 |\", \"output:\", dutch_national_flag([10,3], 0))\n",
    "print(\"input: [10,3], 1 |\", \"output:\", dutch_national_flag([10,3], 1))\n",
    "print(\"input: [10,3,7], 1 |\", \"output:\", dutch_national_flag([10,3,7], 1))\n",
    "print(\"input: [10,3,7], 2 |\", \"output:\", dutch_national_flag([10,3,7], 2))\n",
    "print(\"input: [0,1,2,0,2,1,1], 2 |\", \"output:\", dutch_national_flag([0,1,2,0,2,1,1], 2))\n",
    "print(\"input: [0,1,2,0,2,1,1], 3 |\", \"output:\", dutch_national_flag([0,1,2,0,2,1,1], 3))\n",
    "print(\"input: [0,1,2,0,2,1,1], 1 |\", \"output:\", dutch_national_flag([0,1,2,0,2,1,1], 1))\n",
    "print(\"input: [0,1,2,3,4,6,8,9,0,2,1,1], 2 |\", \"output:\", dutch_national_flag([0,1,2,3,4,6,8,9,0,2,1,1], 2))\n",
    "print(\"input: [0,1,2,3,4,6,8,9,0,2,1,0], 4 |\", \"output:\", dutch_national_flag([0,1,2,3,4,6,8,9,0,2,1,1], 4))"
   ]
  }
 ],
 "metadata": {
  "colab": {
   "collapsed_sections": [],
   "name": "hello_world.ipynb",
   "provenance": []
  },
  "kernelspec": {
   "display_name": "Python 3 (ipykernel)",
   "language": "python",
   "name": "python3"
  },
  "language_info": {
   "codemirror_mode": {
    "name": "ipython",
    "version": 3
   },
   "file_extension": ".py",
   "mimetype": "text/x-python",
   "name": "python",
   "nbconvert_exporter": "python",
   "pygments_lexer": "ipython3",
   "version": "3.9.11"
  }
 },
 "nbformat": 4,
 "nbformat_minor": 5
}
