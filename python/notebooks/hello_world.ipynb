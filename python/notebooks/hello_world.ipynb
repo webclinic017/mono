{
  "nbformat": 4,
  "nbformat_minor": 5,
  "metadata": {
    "kernelspec": {
      "display_name": "Python 3 (ipykernel)",
      "language": "python",
      "name": "python3"
    },
    "language_info": {
      "codemirror_mode": {
        "name": "ipython",
        "version": 3
      },
      "file_extension": ".py",
      "mimetype": "text/x-python",
      "name": "python",
      "nbconvert_exporter": "python",
      "pygments_lexer": "ipython3",
      "version": "3.9.0"
    },
    "colab": {
      "name": "hello_world.ipynb",
      "provenance": [],
      "collapsed_sections": []
    }
  },
  "cells": [
    {
      "cell_type": "code",
      "metadata": {
        "colab": {
          "base_uri": "https://localhost:8080/"
        },
        "id": "d6427dca",
        "outputId": "c44cbf99-be2e-4cd2-a959-632766863458"
      },
      "source": [
        "print(\"hello world\")"
      ],
      "id": "d6427dca",
      "execution_count": null,
      "outputs": [
        {
          "output_type": "stream",
          "name": "stdout",
          "text": [
            "hello world\n"
          ]
        }
      ]
    },
    {
      "cell_type": "code",
      "metadata": {
        "colab": {
          "base_uri": "https://localhost:8080/"
        },
        "id": "Yg44NzLpugAM",
        "outputId": "72d5db69-3c6a-4ad4-b3b2-c176d8dcbd40"
      },
      "source": [
        "print(\"goodbye world\")"
      ],
      "id": "Yg44NzLpugAM",
      "execution_count": null,
      "outputs": [
        {
          "output_type": "stream",
          "name": "stdout",
          "text": [
            "goodbye world\n"
          ]
        }
      ]
    }
  ]
}