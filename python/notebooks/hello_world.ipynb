{
 "cells": [
  {
   "cell_type": "code",
   "execution_count": null,
   "id": "a1a1a90f",
   "metadata": {},
   "outputs": [],
   "source": [
    "import vectorbt as vbt"
   ]
  },
  {
   "cell_type": "code",
   "execution_count": null,
   "id": "60814bab",
   "metadata": {},
   "outputs": [],
   "source": [
    "start = \"2020-01-01 UTC\"\n",
    "security = \"MDB\""
   ]
  },
  {
   "cell_type": "code",
   "execution_count": null,
   "id": "55d8f28e",
   "metadata": {},
   "outputs": [],
   "source": [
    "price = vbt.YFData.download(security, start=start).get(\"Close\")\n",
    "price"
   ]
  },
  {
   "cell_type": "code",
   "execution_count": null,
   "id": "18fb48e8",
   "metadata": {},
   "outputs": [],
   "source": [
    "fast_ma_interval = 20\n",
    "slow_ma_interval = 50"
   ]
  },
  {
   "cell_type": "code",
   "execution_count": null,
   "id": "85da6d0c",
   "metadata": {},
   "outputs": [],
   "source": [
    "fast_ma = vbt.MA.run(price, fast_ma_interval)\n",
    "slow_ma = vbt.MA.run(price, slow_ma_interval)\n",
    "\n",
    "entries = fast_ma.ma_crossed_above(slow_ma)\n",
    "exits = fast_ma.ma_crossed_below(slow_ma)\n",
    "\n",
    "init_cash = 1000\n",
    "\n",
    "pf = vbt.Portfolio.from_signals(price, entries, exits, init_cash=init_cash)"
   ]
  },
  {
   "cell_type": "code",
   "execution_count": null,
   "id": "8f35eeaa",
   "metadata": {},
   "outputs": [],
   "source": [
    "spy_price = vbt.YFData.download(\"SPY\", start=start).get(\"Close\")\n",
    "spy_returns = spy_price.vbt.to_returns()"
   ]
  },
  {
   "cell_type": "code",
   "execution_count": null,
   "id": "2b0ce039",
   "metadata": {},
   "outputs": [],
   "source": [
    "pf.stats(settings=dict(benchmark_rets=spy_returns, freq=\"1d\"), silence_warnings=True)"
   ]
  },
  {
   "cell_type": "code",
   "execution_count": null,
   "id": "6611a735",
   "metadata": {},
   "outputs": [],
   "source": [
    "pf.plot().show()"
   ]
  },
  {
   "cell_type": "code",
   "execution_count": null,
   "id": "13fc1ced",
   "metadata": {},
   "outputs": [],
   "source": []
  }
 ],
 "metadata": {
  "colab": {
   "collapsed_sections": [],
   "name": "hello_world.ipynb",
   "provenance": []
  },
  "kernelspec": {
   "display_name": "Python 3 (ipykernel)",
   "language": "python",
   "name": "python3"
  },
  "language_info": {
   "codemirror_mode": {
    "name": "ipython",
    "version": 3
   },
   "file_extension": ".py",
   "mimetype": "text/x-python",
   "name": "python",
   "nbconvert_exporter": "python",
   "pygments_lexer": "ipython3",
   "version": "3.9.0"
  }
 },
 "nbformat": 4,
 "nbformat_minor": 5
}
