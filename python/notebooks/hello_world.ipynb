{
 "cells": [
  {
   "cell_type": "code",
   "execution_count": null,
   "id": "d6427dca",
   "metadata": {
    "colab": {
     "base_uri": "https://localhost:8080/"
    },
    "id": "d6427dca",
    "outputId": "c44cbf99-be2e-4cd2-a959-632766863458"
   },
   "outputs": [],
   "source": [
    "print(\"hello world\")"
   ]
  },
  {
   "cell_type": "code",
   "execution_count": null,
   "id": "a1a1a90f",
   "metadata": {},
   "outputs": [],
   "source": [
    "import vectorbt as vbt"
   ]
  },
  {
   "cell_type": "code",
   "execution_count": null,
   "id": "55d8f28e",
   "metadata": {},
   "outputs": [],
   "source": [
    "price = vbt.YFData.download(\"AAPL\").get(\"Close\")\n",
    "price"
   ]
  },
  {
   "cell_type": "code",
   "execution_count": null,
   "id": "85da6d0c",
   "metadata": {},
   "outputs": [],
   "source": [
    "fast_ma = vbt.MA.run(price, 10)\n",
    "slow_ma = vbt.MA.run(price, 50)\n",
    "entries = fast_ma.ma_crossed_above(slow_ma)\n",
    "exits = fast_ma.ma_crossed_below(slow_ma)\n",
    "\n",
    "pf = vbt.Portfolio.from_signals(price, entries, exits, init_cash=100)\n",
    "pf.total_profit()"
   ]
  },
  {
   "cell_type": "code",
   "execution_count": null,
   "id": "2b0ce039",
   "metadata": {},
   "outputs": [],
   "source": [
    "pf.plot().show()"
   ]
  },
  {
   "cell_type": "code",
   "execution_count": null,
   "id": "6f465fa6",
   "metadata": {},
   "outputs": [],
   "source": [
    "pf.total_return()"
   ]
  },
  {
   "cell_type": "code",
   "execution_count": null,
   "id": "ff17bd09",
   "metadata": {},
   "outputs": [],
   "source": [
    "pf.total_benchmark_return()"
   ]
  },
  {
   "cell_type": "code",
   "execution_count": null,
   "id": "6611a735",
   "metadata": {},
   "outputs": [],
   "source": [
    "print(\"goodbye world\")"
   ]
  },
  {
   "cell_type": "code",
   "execution_count": null,
   "id": "2fbc858f",
   "metadata": {},
   "outputs": [],
   "source": []
  }
 ],
 "metadata": {
  "colab": {
   "collapsed_sections": [],
   "name": "hello_world.ipynb",
   "provenance": []
  },
  "kernelspec": {
   "display_name": "Python 3 (ipykernel)",
   "language": "python",
   "name": "python3"
  },
  "language_info": {
   "codemirror_mode": {
    "name": "ipython",
    "version": 3
   },
   "file_extension": ".py",
   "mimetype": "text/x-python",
   "name": "python",
   "nbconvert_exporter": "python",
   "pygments_lexer": "ipython3",
   "version": "3.9.0"
  }
 },
 "nbformat": 4,
 "nbformat_minor": 5
}
