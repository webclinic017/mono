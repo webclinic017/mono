{
 "cells": [
  {
   "cell_type": "markdown",
   "id": "81b6d65e",
   "metadata": {},
   "source": [
    "## Key definitions"
   ]
  },
  {
   "cell_type": "markdown",
   "id": "c820347d",
   "metadata": {},
   "source": [
    "### Average\n",
    "\n",
    "For a data set, the arithmetic mean, also known as arithmetic average, is a central value of a finite set of numbers: specifically, the sum of the values divided by the number of values.\n",
    "\n",
    "The formula for average is:\n",
    "\n",
    "${\\displaystyle \\bar{a}={\\frac {1}{n}}\\sum _{i=1}^{n}a_{i}={\\frac {a_{1}+a_{2}+\\cdots +a_{n}}{n}}}$"
   ]
  },
  {
   "cell_type": "markdown",
   "id": "ff2b1882",
   "metadata": {},
   "source": [
    "### Variance\n",
    "\n",
    "Variance measures the average degree to which each number in a data set is different from the mean.\n",
    "\n",
    "The extent of the variance correlates to the size of the overall range of numbers, which means the variance is greater when there is a wider range of numbers in the group, and the variance is less when there is a narrower range of numbers.\n",
    "\n",
    "The formula for population variance is:\n",
    "\n",
    "${\\displaystyle Variance(A)={\\frac {1}{n}}\\sum _{i=1}^{n}(a_{i} - \\bar{a})^2}$\n",
    "\n",
    "Note that the variance is always positive as it's a summation of squares."
   ]
  },
  {
   "cell_type": "markdown",
   "id": "d06bdd4b",
   "metadata": {},
   "source": [
    "### Standard deviation\n",
    "\n",
    "Standard deviation is a statistical measurement that looks at how far a group of numbers is from the mean. Put simply, standard deviation measures how far apart numbers are in a data set.\n",
    "\n",
    "It tells you, on average, how far each value lies from the mean.\n",
    "\n",
    "This metric is calculated as the square root of the variance. This means you have to figure out the variation between each data point relative to the mean.\n",
    "\n",
    "The formula for population standard deviation is:\n",
    "\n",
    "$ {\\displaystyle \\sigma = \\sqrt{\\frac{1}{n} \\sum_{i=1}^n (a_i - \\bar{a})^2}} $"
   ]
  },
  {
   "cell_type": "markdown",
   "id": "1dadc6a7",
   "metadata": {},
   "source": [
    "### Covariance\n",
    "\n",
    "Covariance is a measure of how much two random variables vary together. It’s similar to variance, but where variance tells you how a single variable varies, covariance tells you how two variables vary together.\n",
    "\n",
    "The formula for sample covariance is:\n",
    "\n",
    "$ {\\displaystyle cov_{x,y} = \\frac{\\sum_{i=1}^{n} (x_i-\\bar{x})(y_i-\\bar{y})}{n}} $"
   ]
  },
  {
   "cell_type": "markdown",
   "id": "36fceacd",
   "metadata": {},
   "source": [
    "### Correlation\n",
    "\n",
    "When two variables each have variation, you may want to measure to what extent this variation overlaps.\n",
    "A correlation measures to what extent two variables have their variation in common.\n",
    "\n",
    "To define a correlation you need:\n",
    "* The mean\n",
    "* Standard deviation\n",
    "* Sample covariance\n",
    "\n",
    "Correlation can be understood as a scale free measurement of the strength of the relationship between two variables. The range of correlation is `[-1, 1]` and can inform us about the strength and direction of a relationship between variables.\n",
    "\n",
    "The formula for correlation is:\n",
    "\n",
    "$ {\\displaystyle r_{xy} = \\frac{cov_{xy}}{\\sqrt{Variance(x) * Variance(y)}}} $\n"
   ]
  },
  {
   "cell_type": "markdown",
   "id": "de08534b",
   "metadata": {},
   "source": [
    "### T-test\n",
    "\n",
    "A t-test is a statistical test that is used to compare the means of two groups. It is often used in hypothesis testing to determine whether a process or treatment actually has an effect on the population of interest, or whether two groups are different from one another.\n",
    "\n",
    "In the below example, a t-test is used to determine if the number of penalty kicks given to the home team is significantly larger than the number of penalty kicks given to the away team.\n",
    "\n",
    "The t-test assumes your data:\n",
    "1. Are independent\n",
    "2. Are (approximately) normally distributed\n",
    "3. Have a similar amount of variance within each group being compared (a.k.a. homogeneity of variance)\n",
    "\n",
    "And, there are three main types of t-tests:\n",
    "\n",
    "1. An Independent Samples t-test compares the means for two groups\n",
    "2. A Paired sample t-test compares means from the same group at different times (say, one year apart)\n",
    "3. A One sample t-test tests the mean of a single group against a known mean\n"
   ]
  },
  {
   "cell_type": "markdown",
   "id": "26812898",
   "metadata": {},
   "source": [
    "### Week 2 Example 1\n",
    "\n",
    "Let's explore a question making use of correlation: do home teams get more penalty kicks than away teams?"
   ]
  },
  {
   "cell_type": "code",
   "execution_count": null,
   "id": "8347d6f6",
   "metadata": {},
   "outputs": [],
   "source": [
    "import numpy as np\n",
    "from scipy import stats\n",
    "\n",
    "\"\"\"\n",
    "Start by creating a data set of penalty kick observations awarded by referees. Each\n",
    "observation is referee i's awarded penalty kicks to home (column 0) and away (column 1) teams.\n",
    "\"\"\"\n",
    "pks = np.array([\n",
    "    [53, 42, 24, 20, 20, 41, 33, 6, 37, 10, 5, 53, 0, 11, 9],\n",
    "    [31, 31, 10, 12, 2, 18, 24, 1, 0, 4, 6, 28, 2, 4, 7]\n",
    "], np.int32)\n",
    "\n",
    "\"\"\"\n",
    "Now let's calculate a benchmark value like the mean penalty kicks home and away teams each get.\n",
    "\"\"\"\n",
    "home_avg = np.average(pks[0])\n",
    "away_avg = np.average(pks[1])\n",
    "\n",
    "\"\"\"\n",
    "We can also calculate the sample variance of these observations. This allows us to measure the\n",
    "variation around a benchmark value like the average.\n",
    "\"\"\"\n",
    "home_var = np.var(pks[0], ddof=1)\n",
    "away_var = np.var(pks[1], ddof=1)\n",
    "\n",
    "\"\"\"\n",
    "Next, calculate the sample standard deviation of these observations. With this value, we understand\n",
    "on average how each value differs from the mean.\n",
    "\"\"\"\n",
    "home_std = np.std(pks[0], ddof=1)\n",
    "away_std = np.std(pks[1], ddof=1)\n",
    "\n",
    "\"\"\"\n",
    "Do the same to calculate covariance.\n",
    "\"\"\"\n",
    "pks_cov = np.cov(pks, ddof=1)[0][1]\n",
    "\n",
    "\"\"\"\n",
    "Finally, calculate the correlation. Because the correlation is close to 1 (0.809), we can confirm that\n",
    "referees who give more penalty kicks to home teams also give more penalty kicks to away teams.\n",
    "\"\"\"\n",
    "pks_corr = np.corrcoef(pks)[0][1]\n",
    "\n",
    "\"\"\"\n",
    "Because the p-value of the t-test is meaningfully small (~0.0006), we can reject the null-hypothesis\n",
    "and conclude that home teams receive significantly more penalty kicks.\n",
    "\"\"\"\n",
    "t_test = stats.ttest_rel(pks[0], pks[1])\n",
    "\n",
    "\"\"\"\n",
    "The differences between the penalties for home teams and away teams does not have mean zero. In other\n",
    "words, home teams seem to be in a favorable position.\n",
    "\"\"\"\n",
    "diffs = [a - b for a, b in zip(pks[0], pks[1])]\n",
    "t_test_of_diffs = stats.ttest_1samp(diffs, popmean=0)"
   ]
  },
  {
   "cell_type": "markdown",
   "id": "cb2b6c8e",
   "metadata": {},
   "source": [
    "### Week 2 Example 2\n",
    "\n",
    "Does the relative age effect exist in football?"
   ]
  },
  {
   "cell_type": "code",
   "execution_count": null,
   "id": "9f06ce68",
   "metadata": {},
   "outputs": [],
   "source": [
    "from matplotlib import pyplot as plt \n",
    "\n",
    "\"\"\"\n",
    "Start by creating a data set of age observations where each observation is the number of players born\n",
    "in a given month during the 2018 Champions League season.\n",
    "\"\"\"\n",
    "ages = np.array([\n",
    "    [88, 90, 72, 60, 69, 64, 63, 69, 58, 45, 52, 47],\n",
    "    [1, 2, 3, 4, 5, 6, 7, 8, 9, 10, 11, 12]\n",
    "])\n",
    "\n",
    "\"\"\"\n",
    "Given the strong, negative correlation, we can conclude that birth month's earlier in the year are likely\n",
    "to contain more birthdays of good players. This conclusion is also visible in the plot.\n",
    "\"\"\"\n",
    "ages_cor = np.corrcoef(ages)\n",
    "print(\"Correlation:\", ages_cor[1][0])\n",
    "\n",
    "plt.title(\"Relative age effect\")\n",
    "plt.xlabel(\"Month\")\n",
    "plt.ylabel(\"Number of players\")\n",
    "plt.bar(ages[1], ages[0])\n",
    "plt.show()"
   ]
  },
  {
   "cell_type": "code",
   "execution_count": null,
   "id": "09680c04",
   "metadata": {},
   "outputs": [],
   "source": []
  }
 ],
 "metadata": {
  "colab": {
   "collapsed_sections": [],
   "name": "hello_world.ipynb",
   "provenance": []
  },
  "kernelspec": {
   "display_name": "Python 3 (ipykernel)",
   "language": "python",
   "name": "python3"
  },
  "language_info": {
   "codemirror_mode": {
    "name": "ipython",
    "version": 3
   },
   "file_extension": ".py",
   "mimetype": "text/x-python",
   "name": "python",
   "nbconvert_exporter": "python",
   "pygments_lexer": "ipython3",
   "version": "3.9.0"
  }
 },
 "nbformat": 4,
 "nbformat_minor": 5
}
